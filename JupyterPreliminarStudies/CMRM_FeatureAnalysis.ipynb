{
  "nbformat": 4,
  "nbformat_minor": 0,
  "metadata": {
    "colab": {
      "name": "CMRM_FeatureAnalysis.ipynb",
      "provenance": [],
      "collapsed_sections": [
        "RfhGtmSjfocg",
        "wZT4nacvf_vP"
      ],
      "authorship_tag": "ABX9TyMS2wc7GBS3vMYqDWchclHn",
      "include_colab_link": true
    },
    "kernelspec": {
      "display_name": "Python 3",
      "name": "python3"
    }
  },
  "cells": [
    {
      "cell_type": "markdown",
      "metadata": {
        "id": "view-in-github",
        "colab_type": "text"
      },
      "source": [
        "<a href=\"https://colab.research.google.com/github/andreaco/andreaco.github.io/blob/main/CMRM_FeatureAnalysis.ipynb\" target=\"_parent\"><img src=\"https://colab.research.google.com/assets/colab-badge.svg\" alt=\"Open In Colab\"/></a>"
      ]
    },
    {
      "cell_type": "markdown",
      "metadata": {
        "id": "LUg3NwnfqQV6"
      },
      "source": [
        "# Rhythmic Features Study"
      ]
    },
    {
      "cell_type": "markdown",
      "metadata": {
        "id": "RfhGtmSjfocg"
      },
      "source": [
        "## Imports and Downloads"
      ]
    },
    {
      "cell_type": "markdown",
      "metadata": {
        "id": "C65GwExDCfHx"
      },
      "source": [
        "First of all, we need to install the *pretty-midi* library, download and unzip the Google Magenta \n",
        "Download and unzip MIDI dataset"
      ]
    },
    {
      "cell_type": "code",
      "metadata": {
        "colab": {
          "base_uri": "https://localhost:8080/"
        },
        "id": "2S_UKQIdqSXr",
        "outputId": "0c095f4f-8fe2-40da-da0f-25840007d67e"
      },
      "source": [
        "! pip install pretty-midi"
      ],
      "execution_count": 11,
      "outputs": [
        {
          "output_type": "stream",
          "text": [
            "Requirement already satisfied: pretty-midi in /usr/local/lib/python3.6/dist-packages (0.2.9)\n",
            "Requirement already satisfied: numpy>=1.7.0 in /usr/local/lib/python3.6/dist-packages (from pretty-midi) (1.19.4)\n",
            "Requirement already satisfied: mido>=1.1.16 in /usr/local/lib/python3.6/dist-packages (from pretty-midi) (1.2.9)\n",
            "Requirement already satisfied: six in /usr/local/lib/python3.6/dist-packages (from pretty-midi) (1.15.0)\n"
          ],
          "name": "stdout"
        }
      ]
    },
    {
      "cell_type": "markdown",
      "metadata": {
        "id": "pRMMvYU3TQhu"
      },
      "source": [
        "We need to download and unzip the [Expanded Groove MIDI Dataset (eGMD) ](https://magenta.tensorflow.org/datasets/e-gmd).  \n",
        "This dataset is an expansion of the Groove MIDI Dataset (GMD). GMD is a dataset of human drum performances recorded in MIDI format on a Roland TD-11 electronic drum kit."
      ]
    },
    {
      "cell_type": "code",
      "metadata": {
        "colab": {
          "base_uri": "https://localhost:8080/"
        },
        "id": "BKRNlexKTqu1",
        "outputId": "73bd22f7-e816-4c82-9a70-df0a40e3c1c9"
      },
      "source": [
        "! wget https://storage.googleapis.com/magentadata/datasets/e-gmd/v1.0.0/e-gmd-v1.0.0-midi.zip\n",
        "! unzip e-gmd-v1.0.0-midi.zip"
      ],
      "execution_count": 12,
      "outputs": [
        {
          "output_type": "stream",
          "text": [
            "--2020-12-27 23:31:21--  https://storage.googleapis.com/magentadata/datasets/e-gmd/v1.0.0/e-gmd-v1.0.0-midi.zip\n",
            "Resolving storage.googleapis.com (storage.googleapis.com)... 74.125.199.128, 74.125.135.128, 74.125.195.128, ...\n",
            "Connecting to storage.googleapis.com (storage.googleapis.com)|74.125.199.128|:443... connected.\n",
            "HTTP request sent, awaiting response... 200 OK\n",
            "Length: 107076192 (102M) [application/zip]\n",
            "Saving to: ‘e-gmd-v1.0.0-midi.zip.1’\n",
            "\n",
            "e-gmd-v1.0.0-midi.z 100%[===================>] 102.12M   301MB/s    in 0.3s    \n",
            "\n",
            "2020-12-27 23:31:21 (301 MB/s) - ‘e-gmd-v1.0.0-midi.zip.1’ saved [107076192/107076192]\n",
            "\n",
            "Archive:  e-gmd-v1.0.0-midi.zip\n",
            "replace e-gmd-v1.0.0/LICENSE? [y]es, [n]o, [A]ll, [N]one, [r]ename: N\n"
          ],
          "name": "stdout"
        }
      ]
    },
    {
      "cell_type": "markdown",
      "metadata": {
        "id": "a64-lXaiCaKK"
      },
      "source": [
        "Here are the libraries that we used for doing this analysis "
      ]
    },
    {
      "cell_type": "code",
      "metadata": {
        "id": "eGUvD6gMr1pL"
      },
      "source": [
        "import pandas as pd\n",
        "import numpy as np\n",
        "import pretty_midi\n",
        "import librosa, librosa.display\n",
        "import matplotlib.pyplot as plt\n",
        "import IPython.display as ipd\n",
        "import numpy as np\n",
        "from pathlib import Path\n",
        "\n",
        "from scipy import signal"
      ],
      "execution_count": 13,
      "outputs": []
    },
    {
      "cell_type": "markdown",
      "metadata": {
        "id": "9-1bioumRxin"
      },
      "source": [
        "## Preliminar Analysis"
      ]
    },
    {
      "cell_type": "markdown",
      "metadata": {
        "id": "FjKgl6GXCpZY"
      },
      "source": [
        "In the beginning we explored the dataset, by looking at its composition and labeling to understand better what could be useful to us and what not."
      ]
    },
    {
      "cell_type": "code",
      "metadata": {
        "colab": {
          "base_uri": "https://localhost:8080/"
        },
        "id": "rPX5EznerAP6",
        "outputId": "5c498b7b-a05f-4743-d157-d7949063c24e"
      },
      "source": [
        "# Read CSV\n",
        "info = pd.read_csv('e-gmd-v1.0.0/e-gmd-v1.0.0.csv')\n",
        "\n",
        "# Print column names\n",
        "print(list(info.columns))\n",
        "print(\"N rows:\", info.size)"
      ],
      "execution_count": 14,
      "outputs": [
        {
          "output_type": "stream",
          "text": [
            "['drummer', 'session', 'id', 'style', 'bpm', 'beat_type', 'time_signature', 'duration', 'split', 'midi_filename', 'audio_filename', 'kit_name']\n",
            "N rows: 546444\n"
          ],
          "name": "stdout"
        }
      ]
    },
    {
      "cell_type": "markdown",
      "metadata": {
        "id": "Gtln7w89Finj"
      },
      "source": [
        "After some trim we extract the file name, BPM and Genre labels"
      ]
    },
    {
      "cell_type": "code",
      "metadata": {
        "id": "hPzbk4t4s9cm"
      },
      "source": [
        "midi_files  = []\n",
        "labels      = []\n",
        "bpms        = []\n",
        "\n",
        "for index, row in info.iterrows():\n",
        "  # File name\n",
        "  midi_files.append('e-gmd-v1.0.0/' + row['midi_filename'])\n",
        "  # BPM\n",
        "  bpms.append(row['bpm'])\n",
        "  # Label (we keep only the main subgenre, the one before the '/')\n",
        "  labels.append(row['style'].split('/')[0])"
      ],
      "execution_count": 15,
      "outputs": []
    },
    {
      "cell_type": "markdown",
      "metadata": {
        "id": "POsbMasVWTEn"
      },
      "source": [
        "Here we analyze the balance between classes of the datasets by printing labels and number of occurences"
      ]
    },
    {
      "cell_type": "code",
      "metadata": {
        "colab": {
          "base_uri": "https://localhost:8080/"
        },
        "id": "XOrJecG_tRrI",
        "outputId": "6a111379-09da-4c39-ddcd-de406d4c57bb"
      },
      "source": [
        "lab, count = np.unique(np.asarray(labels), return_counts=True)\n",
        "[(l, c) for l, c in zip(lab, count)]"
      ],
      "execution_count": 16,
      "outputs": [
        {
          "output_type": "execute_result",
          "data": {
            "text/plain": [
              "[('afrobeat', 172),\n",
              " ('afrocuban', 2537),\n",
              " ('blues', 172),\n",
              " ('country', 1204),\n",
              " ('dance', 215),\n",
              " ('funk', 6364),\n",
              " ('gospel', 774),\n",
              " ('hiphop', 3827),\n",
              " ('jazz', 4171),\n",
              " ('latin', 3784),\n",
              " ('middleeastern', 43),\n",
              " ('neworleans', 2064),\n",
              " ('pop', 1118),\n",
              " ('punk', 2494),\n",
              " ('reggae', 860),\n",
              " ('rock', 13072),\n",
              " ('soul', 2666)]"
            ]
          },
          "metadata": {
            "tags": []
          },
          "execution_count": 16
        }
      ]
    },
    {
      "cell_type": "markdown",
      "metadata": {
        "id": "wZT4nacvf_vP"
      },
      "source": [
        "## Feature definition"
      ]
    },
    {
      "cell_type": "markdown",
      "metadata": {
        "id": "GQX53zI5VwrM"
      },
      "source": [
        "Here we defined some functions that use *pretty-midi* library to parse the MIDIs and quantize them to the representation that we used in our previous feature analysis "
      ]
    },
    {
      "cell_type": "code",
      "metadata": {
        "id": "em3hcGgyGrvd"
      },
      "source": [
        "def get_onsets(mid, midi_notes=[36]):\n",
        "  \"\"\"\n",
        "  Given a pretty-midi object, and a list of midi notes \n",
        "  return the onsets for each midi notes in list\n",
        "\n",
        "    Parameters\n",
        "    ----------\n",
        "\n",
        "    :param mid:\n",
        "      pretty-midi object containing the drum beat\n",
        "\n",
        "    :param midi_notes: optional, defaults to only kick\n",
        "      list of midi notes to be considered in the onset extraction\n",
        "\n",
        "    :return: List containing onsets time occurrence\n",
        "  \"\"\"\n",
        "  # List that will contain our onsets\n",
        "  onsets = []\n",
        "  \n",
        "  # For each instrument in our midi\n",
        "  for instrument in mid.instruments:\n",
        "    # For each note in our instrument note\n",
        "    for note in instrument.notes:\n",
        "      # If the note is in our midi notes list\n",
        "      if(note.pitch in midi_notes):\n",
        "        # Add the onsets to our onsets list\n",
        "        onsets.append(note.start)\n",
        "  # Return the onsets as a numpy array\n",
        "  return np.asarray(onsets)\n",
        "  \n",
        "def onsets_parse(onsets, bpm, bars, n_quant_steps):\n",
        "  \"\"\"\n",
        "  Given a list obtained from the get_onsets function, generate the relative\n",
        "  representation with quantized arrays of 0s and 1s\n",
        "\n",
        "    Parameters\n",
        "    ----------\n",
        "\n",
        "    :param onsets:\n",
        "      onsets list generated from get_onsets function\n",
        "\n",
        "    :param bpm:\n",
        "      BPM of the original MIDI, used to quantize the onsets accordingly\n",
        "\n",
        "    :param bars:\n",
        "      Number of bars per pattern in our list\n",
        "\n",
        "    :param n_quant_steps:\n",
        "      Number of notes per bar (quantization factor)\n",
        "\n",
        "    :return: A list of patterns for each bar found in the onsets list\n",
        "  \"\"\"\n",
        "  # Quarter duration in seconds with the given BPM\n",
        "  quarter_duration = 60/bpm\n",
        "\n",
        "  # Duration of each pattern in seconds\n",
        "  dur = bars*4*quarter_duration\n",
        "\n",
        "  # Number of sequences (last onset time divided by duration of each pattern)\n",
        "  n_sequences = int(np.ceil(np.max(onsets) / dur))\n",
        "\n",
        "  # Total number of quantized steps needed to represent the entire MIDI\n",
        "  tot_steps = n_quant_steps * n_sequences\n",
        "\n",
        "  # List containing the quantized time (in seconds) for each of the steps, given the relative parameters\n",
        "  # This is computed by dividing the total duration (in seconds) in the relative amount of steps\n",
        "  quantized_time = np.linspace(0, dur*n_sequences, tot_steps)\n",
        "\n",
        "  # We then create an array of 0s that will hold the quantized onsets (with 1s)\n",
        "  patterns = np.zeros((tot_steps), dtype=int)\n",
        "\n",
        "  # For each onset\n",
        "  for k in onsets:\n",
        "    # Get the quantized position by getting the index of the nearest quantized onset\n",
        "    index = np.abs(k - quantized_time).argmin()\n",
        "    # Then set its position in pattern to 1\n",
        "    patterns[index] = 1\n",
        "\n",
        "  # We then decided to reshape the pattern in different sequences each of n_quant_steps steps\n",
        "  patterns = patterns.reshape(n_sequences, n_quant_steps)\n",
        "  return patterns"
      ],
      "execution_count": 17,
      "outputs": []
    },
    {
      "cell_type": "markdown",
      "metadata": {
        "id": "AGSZ3yLHdIHS"
      },
      "source": [
        "By studying [this paper](https://www.sciencedirect.com/science/article/abs/pii/S0010027720300524), we decided to use 3 different kind of representations to compute our features:\n",
        "> * **p**: A list of quantized beats, containing 1s in onset position and 0s otherwhise (i.e. [1, 0, 0, 0, 1, 0, 0, 0, 1, 0, 0, 0, 1, 0, 0, 0] represent a 4 on 4 beat with just 4 onsets)\n",
        "* **x**: A list containing the onsets position in a relative time scale between 0 and 1. (i.e. [0.0, 0.25, 0.5, 0.75] is the representation of the rhythm stated before)\n",
        "* **z**: Similar to the **x** representation but with the exception that the beats are wrapped around a unit circle.\n"
      ]
    },
    {
      "cell_type": "code",
      "metadata": {
        "id": "zuZpqah1v1Gu"
      },
      "source": [
        "def p2x(p):\n",
        "  \"\"\"\n",
        "  Given a beat in p representation, returns the relative x representation\n",
        "  \"\"\"\n",
        "  return np.nonzero(p)[0] / len(p)\n",
        "\n",
        "def x2z(x):\n",
        "  \"\"\"\n",
        "  Given a beat in x representation, returns the relative z representation\n",
        "  \"\"\"\n",
        "  return np.exp(2*np.pi*1j*x)"
      ],
      "execution_count": 18,
      "outputs": []
    },
    {
      "cell_type": "markdown",
      "metadata": {
        "id": "NKVtONm2fLpv"
      },
      "source": [
        "By using the previously stated representation we are able to compute a different number of features."
      ]
    },
    {
      "cell_type": "code",
      "metadata": {
        "id": "t9toyVntfKxA"
      },
      "source": [
        "def balance(z):\n",
        "  \"\"\"\n",
        "  Balance description\n",
        "  \"\"\"\n",
        "  N = len(z)\n",
        "  if (N == 0): return 0\n",
        "  else:             return 1 - np.abs(np.sum(z)) / N\n",
        "\n",
        "def evenness(z):\n",
        "  \"\"\"\n",
        "  Evenness description\n",
        "  \"\"\"\n",
        "  N = len(z)\n",
        "  k = np.arange(N)\n",
        "\n",
        "  if (N == 0): return 0\n",
        "  else:        return np.abs(np.sum(z*np.exp(-2*np.pi*1j*k / N)))/N\n",
        "\n",
        "def distance(pattern): \n",
        "  \"\"\"\n",
        "  Returns the distance between consecutive onsets,\n",
        "  accounting for the distance between the last and the first\n",
        "  \"\"\"\n",
        "  n = len(pattern)  \n",
        "  ons = np.nonzero(pattern)[0]\n",
        "\n",
        "  if len(ons) > 0:\n",
        "    last = n+ons[0]\n",
        "  else:\n",
        "    last = None\n",
        "  return np.diff(ons, append=last)\n",
        "\n",
        "\n",
        "def IOI(pattern):\n",
        "  \"\"\"\n",
        "  Returns the PDF of distances between onsets\n",
        "  \"\"\"\n",
        "  \n",
        "  g = distance(pattern)\n",
        "  \n",
        "  unique, counts = np.unique(g, return_counts=True)\n",
        "\n",
        "  N = np.sum(counts) # N is the number of intervals (== numbero of onsets)\n",
        "  ans = [0]*(len(pattern) + 1) # Len of pattern + 1, taking into account seq with only one onset (distance 16 needs index 16)\n",
        "  for i in range(len(unique)):\n",
        "    ans[unique[i]] = counts[i] / N\n",
        "  return ans\n",
        "def entropy(ioi):\n",
        "  N = len(ioi)\n",
        "  ioi += np.finfo(float).eps\n",
        "  return - np.sum(ioi*np.log(ioi)) / np.log(N)"
      ],
      "execution_count": 19,
      "outputs": []
    },
    {
      "cell_type": "markdown",
      "metadata": {
        "id": "8MWgFltOR6hj"
      },
      "source": [
        "## Subset of Dataset Creation"
      ]
    },
    {
      "cell_type": "markdown",
      "metadata": {
        "id": "zrBJsME3WYHa"
      },
      "source": [
        "Since the dataset is unbalanced and after some tests, we decided to keep only a subset of it, by chosing the classes with most examples.\n",
        "We reload the dataset in order to avoid mixing up with the notation and tests did before"
      ]
    },
    {
      "cell_type": "code",
      "metadata": {
        "id": "t8PxOjsJSItX"
      },
      "source": [
        "# Read CSV\n",
        "info = pd.read_csv('e-gmd-v1.0.0/e-gmd-v1.0.0.csv')"
      ],
      "execution_count": 20,
      "outputs": []
    },
    {
      "cell_type": "markdown",
      "metadata": {
        "id": "X1u_lhNGSLWh"
      },
      "source": [
        "We decided to drop examples with time signatures different than 4-4 and the MIDIs labeled as 'fill' because too short"
      ]
    },
    {
      "cell_type": "code",
      "metadata": {
        "id": "Bu-NOT4IR6Ty"
      },
      "source": [
        "# Drop time signatures different than 4-4\n",
        "info = info.drop(info[(info.time_signature != '4-4')].index)\n",
        "# Drop fill examples (too short)\n",
        "info = info.drop(info[(info.beat_type == 'fill')].index)\n",
        "# Chose which genres to keep when extracting the midis\n",
        "subset_genres = ['funk', 'hiphop', 'jazz', 'rock']"
      ],
      "execution_count": 22,
      "outputs": []
    },
    {
      "cell_type": "markdown",
      "metadata": {
        "id": "Wb1665kVgHVE"
      },
      "source": [
        "## Feature Extraction"
      ]
    },
    {
      "cell_type": "markdown",
      "metadata": {
        "id": "d4ZxqDzLiO5p"
      },
      "source": [
        "We start by creating 3 lists containing labels, BPMs and the patterns (in **p** representation) respectively"
      ]
    },
    {
      "cell_type": "code",
      "metadata": {
        "id": "db5vsb1LU4DY"
      },
      "source": [
        "labels      = []\n",
        "bpms        = []\n",
        "patterns    = []\n",
        "\n",
        "for index, row in info.iterrows():\n",
        "  # Genre Label Extraction\n",
        "  label = row['style'].split('/')[0]\n",
        "\n",
        "  # If the extracted label is in our subset\n",
        "  if label in subset_genres:\n",
        "    # Extract the relative path to the MIDI file\n",
        "    file_name = 'e-gmd-v1.0.0/' + row['midi_filename']\n",
        "\n",
        "    # Extract the BPM\n",
        "    bpm = row['bpm']\n",
        "    \n",
        "    # Read the MIDI file\n",
        "    mid = pretty_midi.PrettyMIDI(file_name)\n",
        "\n",
        "    # Get the onsets from MIDI file\n",
        "    onsets = get_onsets(mid, midi_notes=[36, 38])\n",
        "\n",
        "    # If the onsets are suitable (contains at least 2 sequences)\n",
        "    if onsets.shape[0] > 1:\n",
        "      # Extract the p representation\n",
        "      pattern = onsets_parse(onsets, bpm, 2, 32)\n",
        "\n",
        "      # Save the label, bpms and pattern in 3 different lists\n",
        "      labels.append(label)\n",
        "      bpms.append(bpm)\n",
        "      patterns.append(pattern)"
      ],
      "execution_count": 24,
      "outputs": []
    },
    {
      "cell_type": "code",
      "metadata": {
        "colab": {
          "base_uri": "https://localhost:8080/"
        },
        "id": "2EUkclQ3ZCSi",
        "outputId": "3fef4207-8673-4793-e555-2a4a73aaf2db"
      },
      "source": [
        "print(\"Number of patterns: {}\".format(len(patterns)))"
      ],
      "execution_count": 33,
      "outputs": [
        {
          "output_type": "stream",
          "text": [
            "Number of patterns: 12599\n"
          ],
          "name": "stdout"
        }
      ]
    },
    {
      "cell_type": "markdown",
      "metadata": {
        "id": "3BECwRTVig7s"
      },
      "source": [
        "Here we experimented with the various features and combinations"
      ]
    },
    {
      "cell_type": "code",
      "metadata": {
        "id": "WepV6UJY7Zrt"
      },
      "source": [
        "x = []\n",
        "y = []\n",
        "z = []\n",
        "w = []\n",
        "for p in patterns:\n",
        "  if(len(p)>1):\n",
        "    x.append(balance(p[1]))\n",
        "    y.append(entropy(IOI(p[1])))\n",
        "    z.append(evenness(p[1]))\n",
        "    w.append(IOI(p[1]))\n",
        "  else:\n",
        "    x.append(0)\n",
        "    y.append(0)\n",
        "    z.append(0)\n",
        "    w.append(IOI([0]*32))\n",
        "\n",
        "x = np.asarray(x)\n",
        "y = np.asarray(y)\n",
        "z = np.asarray(z)\n",
        "w = np.asarray(w)"
      ],
      "execution_count": 34,
      "outputs": []
    },
    {
      "cell_type": "code",
      "metadata": {
        "id": "85Sg3Ood5Ui3",
        "colab": {
          "base_uri": "https://localhost:8080/"
        },
        "outputId": "43ef3d1f-d3f5-4a47-fdc3-f8845f8592ae"
      },
      "source": [
        "X_train = np.stack([x, y, z], axis=1)\n",
        "X_train = np.hstack([X_train,w])\n",
        "y_train = np.asarray(labels)\n",
        "X_train.shape, y_train.shape\n",
        "\n",
        "from sklearn import svm\n",
        "#X_without_rock = X_train[y_train != 'rock']\n",
        "#y_without_rock = y_train[y_train != 'rock']\n",
        "\n",
        "X_train.shape, y_train.shape\n",
        "#X_without_rock.shape, y_without_rock.shape"
      ],
      "execution_count": 35,
      "outputs": [
        {
          "output_type": "execute_result",
          "data": {
            "text/plain": [
              "((12599, 36), (12599,))"
            ]
          },
          "metadata": {
            "tags": []
          },
          "execution_count": 35
        }
      ]
    },
    {
      "cell_type": "code",
      "metadata": {
        "id": "uVQSZXRuADLV",
        "colab": {
          "base_uri": "https://localhost:8080/"
        },
        "outputId": "f348735f-d9ac-4123-b39a-6298878abc41"
      },
      "source": [
        "from sklearn import svm\n",
        "X_without_rock = X_train[y_train != 'funk']\n",
        "X_without_rock = X_train[y_train != 'hiphop']\n",
        "y_without_rock = y_train[y_train != 'funk']\n",
        "y_without_rock = y_train[y_train != 'hiphop']\n",
        "\n",
        "\n",
        "\n",
        "clf = svm.SVC()\n",
        "clf.fit(X_without_rock, y_without_rock)"
      ],
      "execution_count": 36,
      "outputs": [
        {
          "output_type": "execute_result",
          "data": {
            "text/plain": [
              "SVC(C=1.0, break_ties=False, cache_size=200, class_weight=None, coef0=0.0,\n",
              "    decision_function_shape='ovr', degree=3, gamma='scale', kernel='rbf',\n",
              "    max_iter=-1, probability=False, random_state=None, shrinking=True,\n",
              "    tol=0.001, verbose=False)"
            ]
          },
          "metadata": {
            "tags": []
          },
          "execution_count": 36
        }
      ]
    },
    {
      "cell_type": "code",
      "metadata": {
        "id": "baH3ir7r-6sX",
        "colab": {
          "base_uri": "https://localhost:8080/",
          "height": 285
        },
        "outputId": "e0317a92-4cf0-4263-9396-479610ca342f"
      },
      "source": [
        "from sklearn.metrics import accuracy_score\n",
        "y_pred = clf.predict(X_train)\n",
        "accuracy_score(y_train, y_pred)\n",
        "\n",
        "plt.scatter(X_without_rock[:, 0], X_without_rock[:, 2])"
      ],
      "execution_count": 37,
      "outputs": [
        {
          "output_type": "execute_result",
          "data": {
            "text/plain": [
              "<matplotlib.collections.PathCollection at 0x7f0bb4b68668>"
            ]
          },
          "metadata": {
            "tags": []
          },
          "execution_count": 37
        },
        {
          "output_type": "display_data",
          "data": {
            "image/png": "[encoded data removed]",
            "text/plain": [
              "<Figure size 432x288 with 1 Axes>"
            ]
          },
          "metadata": {
            "tags": [],
            "needs_background": "light"
          }
        }
      ]
    },
    {
      "cell_type": "code",
      "metadata": {
        "id": "VjkGBvAABP01"
      },
      "source": [
        "\n",
        "from sklearn.decomposition import PCA\n",
        "pca = PCA(n_components=2)\n",
        "xy = pca.fit_transform(X_train)\n",
        "\n",
        "#plt.scatter(xy[y_without_rock == 'jazz', 0], xy[y_without_rock == 'jazz', 1])\n",
        "#plt.scatter(xy[y_without_rock == 'rock', 0], xy[y_without_rock == 'rock', 1])\n",
        "\n"
      ],
      "execution_count": 38,
      "outputs": []
    },
    {
      "cell_type": "code",
      "metadata": {
        "colab": {
          "base_uri": "https://localhost:8080/",
          "height": 610
        },
        "id": "wwatRp0p1K22",
        "outputId": "e4e67d8b-acbd-4e0c-ca0b-3667ee47834f"
      },
      "source": [
        "import random\n",
        "x_random = []\n",
        "y_random = []\n",
        "z_random = []\n",
        "w_random = []\n",
        "for i in range(1000):\n",
        "  p = [0]*32\n",
        "  for j in range(32):\n",
        "    p[j] = random.randint(0, 1);\n",
        "  \n",
        "  if(len(p)>1):\n",
        "    x_random.append(balance(p))\n",
        "    y_random.append(entropy(IOI(p)))\n",
        "    z_random.append(evenness(p))\n",
        "    w_random.append(IOI(p))\n",
        "  \n",
        "\n",
        "x = np.asarray(x_random)\n",
        "y = np.asarray(y_random)\n",
        "z = np.asarray(z_random)\n",
        "w = np.asarray(w_random)\n",
        "\n",
        "X_random = np.stack([x_random, y_random, z_random], axis=1)\n",
        "X_random = np.hstack([X_random, w_random])\n",
        "\n",
        "\n",
        "from sklearn.decomposition import PCA\n",
        "pca = PCA(n_components=2)\n",
        "pca_random = pca.fit_transform(X_random)\n",
        "\n",
        "\n",
        "plt.figure(figsize=(10, 10))\n",
        "plt.scatter(xy[:, 0], xy[:, 1], c='red')\n",
        "plt.scatter(pca_random[:, 0], pca_random[:, 1])\n",
        "plt.legend(['Groove Dataset', 'Random'])\n",
        "\n",
        "\n",
        "X_random.shape, X_train.shape\n",
        "\n"
      ],
      "execution_count": 41,
      "outputs": [
        {
          "output_type": "execute_result",
          "data": {
            "text/plain": [
              "((1000, 36), (12599, 36))"
            ]
          },
          "metadata": {
            "tags": []
          },
          "execution_count": 41
        },
        {
          "output_type": "display_data",
          "data": {
            "image/png": "[encoded data removed]",
            "text/plain": [
              "<Figure size 720x720 with 1 Axes>"
            ]
          },
          "metadata": {
            "tags": [],
            "needs_background": "light"
          }
        }
      ]
    },
    {
      "cell_type": "code",
      "metadata": {
        "id": "NH2jK7DDlfO1"
      },
      "source": [
        ""
      ],
      "execution_count": null,
      "outputs": []
    }
  ]
}