{
  "nbformat": 4,
  "nbformat_minor": 0,
  "metadata": {
    "colab": {
      "name": "ACTAM_GeneticAlgorythmStudy.ipynb",
      "provenance": [],
      "collapsed_sections": [
        "rFtxUrYIs0Ak"
      ],
      "authorship_tag": "ABX9TyOTrBlPWsvzYmEBuhLd6qX9",
      "include_colab_link": true
    },
    "kernelspec": {
      "name": "python3",
      "display_name": "Python 3"
    }
  },
  "cells": [
    {
      "cell_type": "markdown",
      "metadata": {
        "id": "view-in-github",
        "colab_type": "text"
      },
      "source": [
        "<a href=\"https://colab.research.google.com/github/andreaco/andreaco.github.io/blob/main/ACTAM_GeneticAlgorythmStudy.ipynb\" target=\"_parent\"><img src=\"https://colab.research.google.com/assets/colab-badge.svg\" alt=\"Open In Colab\"/></a>"
      ]
    },
    {
      "cell_type": "markdown",
      "metadata": {
        "id": "VIfVXWb2mUkW"
      },
      "source": [
        "# Genetic Algorythm Drum Study"
      ]
    },
    {
      "cell_type": "markdown",
      "metadata": {
        "id": "ZFQK2L7MmRks"
      },
      "source": [
        "## Imports and Downloads"
      ]
    },
    {
      "cell_type": "markdown",
      "metadata": {
        "id": "bvLVMmtUmceh"
      },
      "source": [
        "Here are the libraries that we used for doing this analysis "
      ]
    },
    {
      "cell_type": "code",
      "metadata": {
        "id": "wy3JsJFEgpsD"
      },
      "source": [
        "import numpy as np\n",
        "import matplotlib.pyplot as plt\n",
        "from scipy import signal\n",
        "import IPython.display as ipd\n",
        "from fractions import gcd\n",
        "\n",
        "import random"
      ],
      "execution_count": 20,
      "outputs": []
    },
    {
      "cell_type": "markdown",
      "metadata": {
        "id": "rFtxUrYIs0Ak"
      },
      "source": [
        "## Audio Preview"
      ]
    },
    {
      "cell_type": "markdown",
      "metadata": {
        "id": "nbmIL1-AnBVX"
      },
      "source": [
        "Here we defined some utility functions to create an audio representation"
      ]
    },
    {
      "cell_type": "code",
      "metadata": {
        "id": "7lN9TFvJd8RF"
      },
      "source": [
        "def kick_sound(t, position):\n",
        "  # Amplitude and pitch envelope parameters\n",
        "  tau = 0.1\n",
        "  A = 0.9\n",
        "\n",
        "  # Kick Start and Step Function\n",
        "  t_o = t - position\n",
        "  step = np.zeros(t_o.shape)\n",
        "  step[t_o > 0] = 1\n",
        "\n",
        "  # Amplitude envelope\n",
        "  a1 = step * A * np.exp(-t_o/tau)\n",
        "\n",
        "  # Pitch envelope\n",
        "  a2 = step * np.exp(-t_o/tau)\n",
        "  \n",
        "  return a1 * np.sin(2 * np.pi * (40 + a2 * 550) * t_o)\n",
        "\n",
        "def snare_sound(t, position):\n",
        "  # Amplitude and pitch envelope parameters\n",
        "  tau = 0.01\n",
        "  A = 0.9\n",
        "\n",
        "  # Kick Start and Step Function\n",
        "  t_o = t - position\n",
        "  step = np.zeros(t_o.shape)\n",
        "  step[t_o > 0] = 1\n",
        "\n",
        "  # Amplitude envelope\n",
        "  a1 = step * A * np.exp(-t_o/tau)\n",
        "\n",
        "  # Pitch envelope\n",
        "  a2 = step * np.exp(-t_o/tau)\n",
        "  \n",
        "  noise = np.random.random(t.shape)\n",
        "  return a1 * noise\n",
        "\n",
        "def pattern2audio(pattern, audio_len = 4.0, fs=44100):\n",
        "  \"\"\"Given a pattern represented as 0s and 1s, create an audio representation\"\"\"\n",
        "  # time axis\n",
        "  t = np.arange(0, audio_len, 1.0 / fs);\n",
        "  # For each step, marks its time relative position\n",
        "  onsets = np.arange(0, audio_len, audio_len/len(pattern))\n",
        "\n",
        "  # Audio representation\n",
        "  x = np.zeros(t.shape)\n",
        "\n",
        "  # For each step in the pattern, add kick if step is 1\n",
        "  for i in range(len(pattern)):\n",
        "    if(pattern[i] == 1):\n",
        "      x += 0.5*kick_sound(t, onsets[i])\n",
        "    if(i % 2 == 0):\n",
        "      x += 0.5*snare_sound(t, onsets[i])\n",
        "  ipd.display(ipd.Audio(data=x, rate=fs))\n",
        "  return (t, x)"
      ],
      "execution_count": 21,
      "outputs": []
    },
    {
      "cell_type": "markdown",
      "metadata": {
        "id": "61UMqJ5dtysD"
      },
      "source": [
        "## Feature Definition"
      ]
    },
    {
      "cell_type": "markdown",
      "metadata": {
        "id": "ijQ1B7zVnWcY"
      },
      "source": [
        "Here we defined some functions that use *pretty-midi* library to parse the MIDIs and quantize them to the representation that we used in our previous feature analysis "
      ]
    },
    {
      "cell_type": "code",
      "metadata": {
        "id": "IoQ3kFWtS6l9"
      },
      "source": [
        "def distance(pattern): \n",
        "  \"\"\"\n",
        "  Returns the distance between consecutive onsets,\n",
        "  accounting for the distance between the last and the first\n",
        "  \"\"\"\n",
        "  n = len(pattern)  \n",
        "  ons = np.nonzero(pattern)[0]\n",
        "\n",
        "  if len(ons) > 0:\n",
        "    last = n+ons[0]\n",
        "  else:\n",
        "    last = None\n",
        "  return np.diff(ons, append=last)\n",
        "\n",
        "\n",
        "def IOI(pattern):\n",
        "  \"\"\"\n",
        "  Returns the PDF of distances between onsets\n",
        "  \"\"\"\n",
        "  \n",
        "  g = distance(pattern)\n",
        "  \n",
        "  unique, counts = numpy.unique(g, return_counts=True)\n",
        "\n",
        "  N = np.sum(counts) # N is the number of intervals (== numbero of onsets)\n",
        "  ans = [0]*(len(pattern) + 1) # Len of pattern + 1, taking into account seq with only one onset (distance 16 needs index 16)\n",
        "  for i in range(len(unique)):\n",
        "    ans[unique[i]] = counts[i] / N\n",
        "  return ans\n"
      ],
      "execution_count": 22,
      "outputs": []
    },
    {
      "cell_type": "markdown",
      "metadata": {
        "id": "ECyyReNXrCwz"
      },
      "source": [
        "By studying [this paper](https://www.sciencedirect.com/science/article/abs/pii/S0010027720300524), we decided to use 3 different kind of representations to compute our features:\n",
        "> * **p**: A list of quantized beats, containing 1s in onset position and 0s otherwhise (i.e. [1, 0, 0, 0, 1, 0, 0, 0, 1, 0, 0, 0, 1, 0, 0, 0] represent a 4 on 4 beat with just 4 onsets)\n",
        "* **x**: A list containing the onsets position in a relative time scale between 0 and 1. (i.e. [0.0, 0.25, 0.5, 0.75] is the representation of the rhythm stated before)\n",
        "* **z**: Similar to the **x** representation but with the exception that the beats are wrapped around a unit circle."
      ]
    },
    {
      "cell_type": "code",
      "metadata": {
        "id": "mLiAJUKunlAs"
      },
      "source": [
        "def p2x(p):\n",
        "  \"\"\"\n",
        "  Given a beat in p representation, returns the relative x representation\n",
        "  \"\"\"\n",
        "  return np.nonzero(p)[0] / len(p)\n",
        "\n",
        "def x2z(x):\n",
        "  \"\"\"\n",
        "  Given a beat in x representation, returns the relative z representation\n",
        "  \"\"\"\n",
        "  return np.exp(2*np.pi*1j*x)"
      ],
      "execution_count": 23,
      "outputs": []
    },
    {
      "cell_type": "markdown",
      "metadata": {
        "id": "Sp-CgvvunqAA"
      },
      "source": [
        "By using the previously stated representation we are able to compute a different number of features."
      ]
    },
    {
      "cell_type": "code",
      "metadata": {
        "id": "v-2aHyN9bYFQ"
      },
      "source": [
        "def balance(z):\n",
        "  \"\"\"\n",
        "  Balance description\n",
        "  \"\"\"\n",
        "  N = len(z)\n",
        "  if (N == 0): return 0\n",
        "  else:             return 1 - np.abs(np.sum(z)) / N\n",
        "\n",
        "def evenness(z):\n",
        "  \"\"\"\n",
        "  Evenness description\n",
        "  \"\"\"\n",
        "  N = len(z)\n",
        "  k = np.arange(N)\n",
        "\n",
        "  if (N == 0): return 0\n",
        "  else:        return np.abs(np.sum(z*np.exp(-2*np.pi*1j*k / N)))/N\n",
        "\n",
        "def distance(pattern): \n",
        "  \"\"\"\n",
        "  Returns the distance between consecutive onsets,\n",
        "  accounting for the distance between the last and the first\n",
        "  \"\"\"\n",
        "  n = len(pattern)  \n",
        "  ons = np.nonzero(pattern)[0]\n",
        "\n",
        "  if len(ons) > 0:\n",
        "    last = n+ons[0]\n",
        "  else:\n",
        "    last = None\n",
        "  return np.diff(ons, append=last)\n",
        "\n",
        "\n",
        "def IOI(pattern):\n",
        "  \"\"\"\n",
        "  Returns the PDF of distances between onsets\n",
        "  \"\"\"\n",
        "  \n",
        "  g = distance(pattern)\n",
        "  \n",
        "  unique, counts = np.unique(g, return_counts=True)\n",
        "\n",
        "  N = np.sum(counts) # N is the number of intervals (== numbero of onsets)\n",
        "  ans = [0]*(len(pattern) + 1) # Len of pattern + 1, taking into account seq with only one onset (distance 16 needs index 16)\n",
        "  for i in range(len(unique)):\n",
        "    ans[unique[i]] = counts[i] / N\n",
        "  return ans\n",
        "\n",
        "\n",
        "def entropy(ioi):\n",
        "  N = len(ioi)\n",
        "  ioi += np.finfo(float).eps\n",
        "  return - np.sum(ioi*np.log(ioi)) / np.log(N)"
      ],
      "execution_count": 24,
      "outputs": []
    },
    {
      "cell_type": "markdown",
      "metadata": {
        "id": "l0Hbz_n7o8OB"
      },
      "source": [
        "## Genetic Simulation"
      ]
    },
    {
      "cell_type": "markdown",
      "metadata": {
        "id": "Az7diN1jlFA-"
      },
      "source": [
        "[Crossover Functions](https://en.wikipedia.org/wiki/Crossover_(genetic_algorithm))"
      ]
    },
    {
      "cell_type": "code",
      "metadata": {
        "id": "wJUvs_D6lBHa"
      },
      "source": [
        "def single_point_crossover(a, b, crossover_point = 0.5):\n",
        "  M = int(np.floor(crossover_point * len(a)))\n",
        "  child = np.zeros(a.shape)\n",
        "  child[0:M] = a[0:M]\n",
        "  child[M:]  = b[M:]\n",
        "  return child\n",
        "\n",
        "def two_point_crossover(a, b, start, end):\n",
        "  s = int(np.floor(start * len(a)))\n",
        "  e = int(np.floor(end   * len(a)))\n",
        "  child = np.copy(a)\n",
        "  child[s:e] = b[s:e]\n",
        "  return child"
      ],
      "execution_count": 25,
      "outputs": []
    },
    {
      "cell_type": "markdown",
      "metadata": {
        "id": "vhkyQl5EviVi"
      },
      "source": [
        "[Mutation](https://en.wikipedia.org/wiki/Mutation_(genetic_algorithm))"
      ]
    },
    {
      "cell_type": "code",
      "metadata": {
        "id": "ElpoXYqsvhqo"
      },
      "source": [
        "def bitstring_mutation(p):\n",
        "  N = len(p)\n",
        "  prob = 1 / N\n",
        "  rng = np.random.rand(N)\n",
        "  p[rng < prob] = (p[rng < prob] + 1) % 2\n",
        "\n",
        "  return p"
      ],
      "execution_count": 26,
      "outputs": []
    },
    {
      "cell_type": "markdown",
      "metadata": {
        "id": "nwsSf_59oAU2"
      },
      "source": [
        "[Selection](https://www.sciencedirect.com/science/article/abs/pii/S0378437111009010)"
      ]
    },
    {
      "cell_type": "code",
      "metadata": {
        "id": "VzphxAFpBGhU"
      },
      "source": [
        "# Most Fittest survive\n",
        "def most_fittest(pop):\n",
        "  \n",
        "  selected = pop[:]\n",
        "  scores   = np.zeros((pop.shape[0],))\n",
        "  tot_fitness = 0\n",
        "\n",
        "  for i, element in enumerate(pop):\n",
        "    element_fit = fitness(element)\n",
        "    scores[i] = element_fit\n",
        "    tot_fitness += element_fit\n",
        "  \n",
        "  #Sorts pop by value and creates an array with the sorte by value pop\n",
        "  selected = np.array([x for _, x in sorted(zip(scores, pop), reverse=True,key=lambda pair: pair[0])])\n",
        "  sorted_scores = sorted(scores, reverse=True)\n",
        "\n",
        "  trim = int(np.floor(survival_rate*selected.shape[0]))\n",
        "  if (trim % 2 != 0):\n",
        "    trim -= 1;\n",
        "  selected = selected[0:trim]\n",
        "  scores   = scores[0:trim]\n",
        "  return selected, scores\n",
        "\n",
        "# Roulette wheel with stochastic acceptance\n",
        "def selection(pop):\n",
        "  \n",
        "  selected = pop.copy()\n",
        "  scores   = np.zeros((selected.shape[0],))\n",
        "  num_survivors = int(np.floor(selected.shape[0] * survival_rate))\n",
        "\n",
        "  for i, element in enumerate(selected):\n",
        "    element_fit = fitness(element)\n",
        "    scores[i] = element_fit\n",
        "  \n",
        "  survival_prob = scores / np.max(scores)\n",
        "  \n",
        "  survived = np.zeros((num_survivors, selected.shape[1]), dtype=np.int)\n",
        "\n",
        "  for i in range(num_survivors):\n",
        "    index = np.random.randint(0, selected.shape[0]-1)\n",
        "    while(np.random.rand() > survival_prob[index]):\n",
        "      index = np.random.randint(0, selected.shape[0]-1)\n",
        "    survived[i] = selected[index]\n",
        "    selected = np.delete(selected, index, axis=0);\n",
        "  \n",
        "  scores   = np.zeros((survived.shape[0],))\n",
        "\n",
        "  for i, element in enumerate(survived):\n",
        "    scores[i] = fitness(element)\n",
        "    \n",
        "  return survived, scores\n",
        "\n"
      ],
      "execution_count": 27,
      "outputs": []
    },
    {
      "cell_type": "code",
      "metadata": {
        "id": "s0MwANETF3UY"
      },
      "source": [
        "# Mating using Two Point Crossover function\n",
        "def mating(a, b):\n",
        "  randomA = random.random()\n",
        "  randomB = random.random()\n",
        "  start, end = min(randomA, randomB), max(randomA, randomB)\n",
        "  return two_point_crossover(a, b, start, end), two_point_crossover(b, a, start, end)\n",
        "\n",
        "\"\"\"\n",
        "# Mating using Single Point Crossover function\n",
        "def mating(a, b):\n",
        "  start = random.random()\n",
        "  return single_point_crossover(a, b, start), single_point_crossover(b, a, start)\n",
        "\"\"\"\n",
        "\n",
        "def fitness(p):\n",
        "  #Feature Extraction\n",
        "  x = p2x(p)\n",
        "  z = x2z(x)\n",
        "\n",
        "  b = balance(z)\n",
        "  e = evenness(z)\n",
        "  h = entropy(IOI(p))\n",
        "\n",
        "  return b*e*h"
      ],
      "execution_count": 28,
      "outputs": []
    },
    {
      "cell_type": "code",
      "metadata": {
        "id": "4N__y9dMovRf"
      },
      "source": [
        "def random_seq(n_steps):\n",
        "  return [random.randint(0, 1)  for _ in range(n_steps)]\n",
        "\n",
        "def random_pop(n_indiv=5000, n_steps=16):\n",
        "  return np.array([random_seq(n_steps) for _ in range(n_indiv)])\n",
        "\n",
        "def crossover(selected):\n",
        "  N = len(selected)\n",
        "  #np.random.shuffle(selected)\n",
        "  offspring = selected.copy()\n",
        "  for i in range(0, N-1, 2):  # check if N-1 avoid out of range?\n",
        "    if (np.random.rand() < crossover_probability):\n",
        "      child1, child2 = mating(selected[i], selected[i+1])\n",
        "      offspring[i]   = child1\n",
        "      offspring[i+1] = child2\n",
        "\n",
        "  return offspring\n",
        "  \n",
        "def mutation(pop):\n",
        "  for i in range(len(pop)):\n",
        "    if (np.random.rand() < mutation_probability):\n",
        "      pop[i] = bitstring_mutation(pop[i])\n",
        "  return pop\n",
        "\n",
        "crossover_probability = 0.99\n",
        "mutation_probability = 0.01\n",
        "\n",
        "survival_rate = 0.99"
      ],
      "execution_count": 29,
      "outputs": []
    },
    {
      "cell_type": "code",
      "metadata": {
        "colab": {
          "base_uri": "https://localhost:8080/",
          "height": 827
        },
        "id": "JLPwTtDO07T9",
        "outputId": "77b2834a-c167-4cc8-b865-67f83ae49539"
      },
      "source": [
        "np.random.seed(69)\n",
        "pop = random_pop(500, 16)\n",
        "\n",
        "pop, scores = selection(pop)\n",
        "\n",
        "plt.figure(figsize=(25, 8))\n",
        "plt.subplot(131)\n",
        "plt.hist(scores);\n",
        "\n",
        "history = []\n",
        "while np.mean(np.array(scores) < 0.5) and len(history) < 10000:\n",
        "  if(len(pop) < 20):\n",
        "    pop = np.append(pop, random_pop(5, 16), axis=0)\n",
        "  pop, scores = selection(pop)\n",
        "  pop = crossover(pop)\n",
        "  pop = mutation(pop)\n",
        "  history.append(np.mean(np.array(scores)))\n",
        "\n",
        "\n",
        "print(pop)\n",
        "\n",
        "plt.subplot(132)\n",
        "plt.plot(history);\n",
        "plt.title(\"Mean Fitness\")\n",
        "plt.subplot(133)\n",
        "plt.hist(scores);"
      ],
      "execution_count": 30,
      "outputs": [
        {
          "output_type": "error",
          "ename": "KeyboardInterrupt",
          "evalue": "ignored",
          "traceback": [
            "\u001b[0;31m---------------------------------------------------------------------------\u001b[0m",
            "\u001b[0;31mKeyboardInterrupt\u001b[0m                         Traceback (most recent call last)",
            "\u001b[0;32m<ipython-input-30-a37966180786>\u001b[0m in \u001b[0;36m<module>\u001b[0;34m()\u001b[0m\n\u001b[1;32m     12\u001b[0m   \u001b[0;32mif\u001b[0m\u001b[0;34m(\u001b[0m\u001b[0mlen\u001b[0m\u001b[0;34m(\u001b[0m\u001b[0mpop\u001b[0m\u001b[0;34m)\u001b[0m \u001b[0;34m<\u001b[0m \u001b[0;36m20\u001b[0m\u001b[0;34m)\u001b[0m\u001b[0;34m:\u001b[0m\u001b[0;34m\u001b[0m\u001b[0;34m\u001b[0m\u001b[0m\n\u001b[1;32m     13\u001b[0m     \u001b[0mpop\u001b[0m \u001b[0;34m=\u001b[0m \u001b[0mnp\u001b[0m\u001b[0;34m.\u001b[0m\u001b[0mappend\u001b[0m\u001b[0;34m(\u001b[0m\u001b[0mpop\u001b[0m\u001b[0;34m,\u001b[0m \u001b[0mrandom_pop\u001b[0m\u001b[0;34m(\u001b[0m\u001b[0;36m5\u001b[0m\u001b[0;34m,\u001b[0m \u001b[0;36m16\u001b[0m\u001b[0;34m)\u001b[0m\u001b[0;34m,\u001b[0m \u001b[0maxis\u001b[0m\u001b[0;34m=\u001b[0m\u001b[0;36m0\u001b[0m\u001b[0;34m)\u001b[0m\u001b[0;34m\u001b[0m\u001b[0;34m\u001b[0m\u001b[0m\n\u001b[0;32m---> 14\u001b[0;31m   \u001b[0mpop\u001b[0m\u001b[0;34m,\u001b[0m \u001b[0mscores\u001b[0m \u001b[0;34m=\u001b[0m \u001b[0mselection\u001b[0m\u001b[0;34m(\u001b[0m\u001b[0mpop\u001b[0m\u001b[0;34m)\u001b[0m\u001b[0;34m\u001b[0m\u001b[0;34m\u001b[0m\u001b[0m\n\u001b[0m\u001b[1;32m     15\u001b[0m   \u001b[0mpop\u001b[0m \u001b[0;34m=\u001b[0m \u001b[0mcrossover\u001b[0m\u001b[0;34m(\u001b[0m\u001b[0mpop\u001b[0m\u001b[0;34m)\u001b[0m\u001b[0;34m\u001b[0m\u001b[0;34m\u001b[0m\u001b[0m\n\u001b[1;32m     16\u001b[0m   \u001b[0mpop\u001b[0m \u001b[0;34m=\u001b[0m \u001b[0mmutation\u001b[0m\u001b[0;34m(\u001b[0m\u001b[0mpop\u001b[0m\u001b[0;34m)\u001b[0m\u001b[0;34m\u001b[0m\u001b[0;34m\u001b[0m\u001b[0m\n",
            "\u001b[0;32m<ipython-input-27-434faba40797>\u001b[0m in \u001b[0;36mselection\u001b[0;34m(pop)\u001b[0m\n\u001b[1;32m     40\u001b[0m     \u001b[0mindex\u001b[0m \u001b[0;34m=\u001b[0m \u001b[0mnp\u001b[0m\u001b[0;34m.\u001b[0m\u001b[0mrandom\u001b[0m\u001b[0;34m.\u001b[0m\u001b[0mrandint\u001b[0m\u001b[0;34m(\u001b[0m\u001b[0;36m0\u001b[0m\u001b[0;34m,\u001b[0m \u001b[0mselected\u001b[0m\u001b[0;34m.\u001b[0m\u001b[0mshape\u001b[0m\u001b[0;34m[\u001b[0m\u001b[0;36m0\u001b[0m\u001b[0;34m]\u001b[0m\u001b[0;34m-\u001b[0m\u001b[0;36m1\u001b[0m\u001b[0;34m)\u001b[0m\u001b[0;34m\u001b[0m\u001b[0;34m\u001b[0m\u001b[0m\n\u001b[1;32m     41\u001b[0m     \u001b[0;32mwhile\u001b[0m\u001b[0;34m(\u001b[0m\u001b[0mnp\u001b[0m\u001b[0;34m.\u001b[0m\u001b[0mrandom\u001b[0m\u001b[0;34m.\u001b[0m\u001b[0mrand\u001b[0m\u001b[0;34m(\u001b[0m\u001b[0;34m)\u001b[0m \u001b[0;34m>\u001b[0m \u001b[0msurvival_prob\u001b[0m\u001b[0;34m[\u001b[0m\u001b[0mindex\u001b[0m\u001b[0;34m]\u001b[0m\u001b[0;34m)\u001b[0m\u001b[0;34m:\u001b[0m\u001b[0;34m\u001b[0m\u001b[0;34m\u001b[0m\u001b[0m\n\u001b[0;32m---> 42\u001b[0;31m       \u001b[0mindex\u001b[0m \u001b[0;34m=\u001b[0m \u001b[0mnp\u001b[0m\u001b[0;34m.\u001b[0m\u001b[0mrandom\u001b[0m\u001b[0;34m.\u001b[0m\u001b[0mrandint\u001b[0m\u001b[0;34m(\u001b[0m\u001b[0;36m0\u001b[0m\u001b[0;34m,\u001b[0m \u001b[0mselected\u001b[0m\u001b[0;34m.\u001b[0m\u001b[0mshape\u001b[0m\u001b[0;34m[\u001b[0m\u001b[0;36m0\u001b[0m\u001b[0;34m]\u001b[0m\u001b[0;34m-\u001b[0m\u001b[0;36m1\u001b[0m\u001b[0;34m)\u001b[0m\u001b[0;34m\u001b[0m\u001b[0;34m\u001b[0m\u001b[0m\n\u001b[0m\u001b[1;32m     43\u001b[0m     \u001b[0msurvived\u001b[0m\u001b[0;34m[\u001b[0m\u001b[0mi\u001b[0m\u001b[0;34m]\u001b[0m \u001b[0;34m=\u001b[0m \u001b[0mselected\u001b[0m\u001b[0;34m[\u001b[0m\u001b[0mindex\u001b[0m\u001b[0;34m]\u001b[0m\u001b[0;34m\u001b[0m\u001b[0;34m\u001b[0m\u001b[0m\n\u001b[1;32m     44\u001b[0m     \u001b[0mselected\u001b[0m \u001b[0;34m=\u001b[0m \u001b[0mnp\u001b[0m\u001b[0;34m.\u001b[0m\u001b[0mdelete\u001b[0m\u001b[0;34m(\u001b[0m\u001b[0mselected\u001b[0m\u001b[0;34m,\u001b[0m \u001b[0mindex\u001b[0m\u001b[0;34m,\u001b[0m \u001b[0maxis\u001b[0m\u001b[0;34m=\u001b[0m\u001b[0;36m0\u001b[0m\u001b[0;34m)\u001b[0m\u001b[0;34m;\u001b[0m\u001b[0;34m\u001b[0m\u001b[0;34m\u001b[0m\u001b[0m\n",
            "\u001b[0;31mKeyboardInterrupt\u001b[0m: "
          ]
        },
        {
          "output_type": "display_data",
          "data": {
            "image/png": "[encoded data removed]",
            "text/plain": [
              "<Figure size 1800x576 with 1 Axes>"
            ]
          },
          "metadata": {
            "tags": [],
            "needs_background": "light"
          }
        }
      ]
    },
    {
      "cell_type": "code",
      "metadata": {
        "id": "I9LZ1hFJyVHB"
      },
      "source": [
        "np.append(random_pop(500, 32), random_pop(500, 32), axis=0)"
      ],
      "execution_count": null,
      "outputs": []
    },
    {
      "cell_type": "code",
      "metadata": {
        "id": "DxGQ4NP2pUdj"
      },
      "source": [
        "print(pop)\n",
        "for p in pop:\n",
        "  print(\"Fitness: {}\".format(fitness(p)))\n",
        "  pattern2audio(p, audio_len=6.0, fs=16000)"
      ],
      "execution_count": null,
      "outputs": []
    },
    {
      "cell_type": "code",
      "metadata": {
        "colab": {
          "base_uri": "https://localhost:8080/",
          "height": 217
        },
        "id": "Syz8poFtcfWd",
        "outputId": "6af47a5a-ead5-488d-c590-a620c6f31506"
      },
      "source": [
        "pop = random_pop(5000, 32)\n",
        "\n",
        "pop, scores = selection(pop)\n",
        "plt.hist(scores);"
      ],
      "execution_count": null,
      "outputs": [
        {
          "output_type": "error",
          "ename": "NameError",
          "evalue": "ignored",
          "traceback": [
            "\u001b[0;31m---------------------------------------------------------------------------\u001b[0m",
            "\u001b[0;31mNameError\u001b[0m                                 Traceback (most recent call last)",
            "\u001b[0;32m<ipython-input-1-d2454535aaa7>\u001b[0m in \u001b[0;36m<module>\u001b[0;34m()\u001b[0m\n\u001b[0;32m----> 1\u001b[0;31m \u001b[0mpop\u001b[0m \u001b[0;34m=\u001b[0m \u001b[0mrandom_pop\u001b[0m\u001b[0;34m(\u001b[0m\u001b[0;36m5000\u001b[0m\u001b[0;34m,\u001b[0m \u001b[0;36m32\u001b[0m\u001b[0;34m)\u001b[0m\u001b[0;34m\u001b[0m\u001b[0;34m\u001b[0m\u001b[0m\n\u001b[0m\u001b[1;32m      2\u001b[0m \u001b[0;34m\u001b[0m\u001b[0m\n\u001b[1;32m      3\u001b[0m \u001b[0mpop\u001b[0m\u001b[0;34m,\u001b[0m \u001b[0mscores\u001b[0m \u001b[0;34m=\u001b[0m \u001b[0mselection\u001b[0m\u001b[0;34m(\u001b[0m\u001b[0mpop\u001b[0m\u001b[0;34m)\u001b[0m\u001b[0;34m\u001b[0m\u001b[0;34m\u001b[0m\u001b[0m\n\u001b[1;32m      4\u001b[0m \u001b[0mplt\u001b[0m\u001b[0;34m.\u001b[0m\u001b[0mhist\u001b[0m\u001b[0;34m(\u001b[0m\u001b[0mscores\u001b[0m\u001b[0;34m)\u001b[0m\u001b[0;34m;\u001b[0m\u001b[0;34m\u001b[0m\u001b[0;34m\u001b[0m\u001b[0m\n",
            "\u001b[0;31mNameError\u001b[0m: name 'random_pop' is not defined"
          ]
        }
      ]
    },
    {
      "cell_type": "code",
      "metadata": {
        "colab": {
          "base_uri": "https://localhost:8080/"
        },
        "id": "4Qq3WqjvfyM9",
        "outputId": "d7e36f97-2c6a-4cfe-9081-cea63b8ffadb"
      },
      "source": [
        ""
      ],
      "execution_count": null,
      "outputs": [
        {
          "output_type": "execute_result",
          "data": {
            "text/plain": [
              "0.4771204389269347"
            ]
          },
          "metadata": {
            "tags": []
          },
          "execution_count": 14
        }
      ]
    }
  ]
}